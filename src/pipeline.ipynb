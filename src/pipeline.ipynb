{
 "cells": [
  {
   "cell_type": "markdown",
   "id": "940bd746",
   "metadata": {},
   "source": [
    "# MileStoneProject_BitPredict"
   ]
  },
  {
   "cell_type": "markdown",
   "id": "53ca7869",
   "metadata": {},
   "source": [
    "## Import Libraries"
   ]
  },
  {
   "cell_type": "code",
   "execution_count": 2,
   "id": "f44b9cdb",
   "metadata": {},
   "outputs": [
    {
     "name": "stdout",
     "output_type": "stream",
     "text": [
      "This notebook was last run on:2025-09-14 at 12:48:59\n",
      "/bin/bash: line 1: nvidia-smi: command not found\n"
     ]
    }
   ],
   "source": [
    "import numpy as np\n",
    "import tensorflow as tf \n",
    "import pandas as pd\n",
    "import matplotlib.pyplot as plt\n",
    "import seaborn as sns\n",
    "\n",
    "import datetime\n",
    "print(f\"This notebook was last run on:{datetime.datetime.now():%Y-%m-%d at %H:%M:%S}\")\n",
    "# Check for GPU\n",
    "!nvidia-smi -L"
   ]
  },
  {
   "cell_type": "markdown",
   "id": "fa6f808d",
   "metadata": {},
   "source": [
    "## Load dataset"
   ]
  },
  {
   "cell_type": "code",
   "execution_count": null,
   "id": "fc205f81",
   "metadata": {},
   "outputs": [
    {
     "name": "stdout",
     "output_type": "stream",
     "text": [
      "--2025-09-14 12:51:06--  https://raw.githubusercontent.com/mrdbourke/tensorflow-deep-learning/main/extras/BTC_USD_2013-10-01_2021-05-18-CoinDesk.csv\n",
      "Resolving raw.githubusercontent.com (raw.githubusercontent.com)... 185.199.108.133, 185.199.110.133, 185.199.109.133, ...\n",
      "Connecting to raw.githubusercontent.com (raw.githubusercontent.com)|185.199.108.133|:443... connected.\n",
      "HTTP request sent, awaiting response... 200 OK\n",
      "Length: 178509 (174K) [text/plain]\n",
      "Saving to: ‘../data/BTC_USD_2013-10-01_2021-05-18-CoinDesk.csv’\n",
      "\n",
      "BTC_USD_2013-10-01_ 100%[===================>] 174,33K   846KB/s    in 0,2s    \n",
      "\n",
      "2025-09-14 12:51:07 (846 KB/s) - ‘../data/BTC_USD_2013-10-01_2021-05-18-CoinDesk.csv’ saved [178509/178509]\n",
      "\n"
     ]
    }
   ],
   "source": [
    "!wget -P ../data/ https://raw.githubusercontent.com/mrdbourke/tensorflow-deep-learning/main/extras/BTC_USD_2013-10-01_2021-05-18-CoinDesk.csv\n",
    "data_dir = \"../data/BTC_USD_2013-10-01_2021-05-18-CoinDesk.csv\""
   ]
  }
 ],
 "metadata": {
  "kernelspec": {
   "display_name": "Python 3.10 (Intel TF)",
   "language": "python",
   "name": "python310-intel"
  },
  "language_info": {
   "codemirror_mode": {
    "name": "ipython",
    "version": 3
   },
   "file_extension": ".py",
   "mimetype": "text/x-python",
   "name": "python",
   "nbconvert_exporter": "python",
   "pygments_lexer": "ipython3",
   "version": "3.10.13"
  }
 },
 "nbformat": 4,
 "nbformat_minor": 5
}
